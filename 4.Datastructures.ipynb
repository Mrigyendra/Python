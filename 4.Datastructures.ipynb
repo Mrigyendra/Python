{
 "cells": [
  {
   "cell_type": "markdown",
   "metadata": {},
   "source": [
    "# Data Structures: List, Tuples, Sets and Dictionaries\n",
    "\n",
    "# 1. Lists\n",
    "A list is a mutable, ordered collection of items, which can contain elements of different data types.\n",
    "Common operations and methods:"
   ]
  },
  {
   "cell_type": "code",
   "execution_count": 1,
   "metadata": {},
   "outputs": [
    {
     "name": "stdout",
     "output_type": "stream",
     "text": [
      "[1, 2, 3, 4, 5]\n",
      "2\n",
      "[1, 2, 3, 4, 5, 6]\n",
      "[1, 2, 4, 5, 6]\n",
      "[1, 2, 4, 5]\n",
      "[1, 2, 4, 5]\n",
      "[5, 4, 2, 1]\n",
      "1\n",
      "[5, 4, 2, 1]\n",
      "[1, 2, 3, 4, 5, 'name']\n"
     ]
    }
   ],
   "source": [
    "list_example = [1, 2, 3, 4, 5]\n",
    "print(list_example)\n",
    "print(list_example.index(3))\n",
    "\n",
    "list_example.append(6) # Adds an element at the end\n",
    "print(list_example)\n",
    "list_example.remove(3) # Removes the first occurence of an element\n",
    "print(list_example)\n",
    "list_example.pop()     # Removes the last element and returns it\n",
    "print(list_example)\n",
    "list_example.sort()   # Sorts the list in ascending order\n",
    "print(list_example)\n",
    "list_example.reverse() # Reverse the list\n",
    "print(list_example)\n",
    "index=list_example.index(4)\n",
    "print(index) # Finds the index of the element (returns the first index)\n",
    "print(list_example)\n",
    "list_example = [1, 2, 3, 4, 5, 'name']\n",
    "print(list_example)\n"
   ]
  },
  {
   "cell_type": "markdown",
   "metadata": {},
   "source": [
    "# Use cases for lists:\n",
    "- Storing collections of items such as numbers, strings, or other objects.\n",
    "- Modifying collections as they are mutable.\n",
    "- Iterating over data using loops."
   ]
  },
  {
   "cell_type": "code",
   "execution_count": 2,
   "metadata": {},
   "outputs": [
    {
     "name": "stdout",
     "output_type": "stream",
     "text": [
      "Indexing Example:\n",
      "First elements: 50\n",
      "First element: 50\n",
      "\n",
      "Slicing Example:\n",
      "Elements from index 1 to 3: [20, 30, 40]\n",
      "Elements from the beginning to index 2: [10, 20, 30]\n",
      "Elements from index 2 to the end: [30, 40, 50]\n",
      "\n",
      "Length Example:\n",
      "Length of the list: 5\n"
     ]
    }
   ],
   "source": [
    "# Operations  on lists\n",
    "\n",
    "# 1. Indexing Acessing individual elements of a list by their position (index)\n",
    "list_example = [10, 20, 30, 40, 50]\n",
    "print('Indexing Example:')\n",
    "print('First elements:', list_example[4]) # Output: 10\n",
    "print('First element:', list_example[-1]) # Output: 50\n",
    "\n",
    "# 2. Slicing: Extracting a portion of the list by specifying a start and end index\n",
    "print('\\nSlicing Example:')\n",
    "print('Elements from index 1 to 3:', list_example[1:4]) # Output: [20, 30, 40]\n",
    "print('Elements from the beginning to index 2:', list_example[:3]) # Output: [10, 20, 30]\n",
    "print('Elements from index 2 to the end:', list_example[2:]) # Output: [30, 40, 50]\n",
    "\n",
    "# 3. Length: Getting the number of elements in the list using the len()function\n",
    "print('\\nLength Example:')\n",
    "print('Length of the list:', len(list_example)) # Output: 5 "
   ]
  },
  {
   "cell_type": "markdown",
   "metadata": {},
   "source": [
    "# 2. Tuples \n",
    "A tuple is an imutable, ordered collection of items, similar to a list but cannot be modified after creation.\n",
    "\n",
    "# Use cases for tuples:\n",
    "- Storing fixed collections of items.\n",
    "- Can be used as keys in dictionaries due to their imutability."
   ]
  },
  {
   "cell_type": "code",
   "execution_count": 3,
   "metadata": {},
   "outputs": [
    {
     "data": {
      "text/plain": [
       "3"
      ]
     },
     "execution_count": 3,
     "metadata": {},
     "output_type": "execute_result"
    }
   ],
   "source": [
    "# Common operations and methods:\n",
    "tuple_example = (1, 2, 3, 4, 5)\n",
    "# tuple_example.append(6)  # This would raise an error as tuples are imutable\n",
    "tuple_example.index(4)   # Finds the index of the element"
   ]
  },
  {
   "cell_type": "code",
   "execution_count": 4,
   "metadata": {},
   "outputs": [
    {
     "name": "stdout",
     "output_type": "stream",
     "text": [
      "Indexing Example:\n",
      "First element: 10\n",
      "Last element: 50\n",
      "\n",
      "Slicing Example:\n",
      "Elements from index 1 to 3: (20, 30, 40)\n",
      "Elements from the beginning to index 2: (10, 20, 30)\n",
      "Elements from index 2 to the end: (30, 40, 50)\n",
      "\n",
      "Length Example:\n",
      "Length of the tuple: 5\n"
     ]
    }
   ],
   "source": [
    "# Operations on Tuples:\n",
    "\n",
    "# 1. Indexing: Accessing individual elements of a tuple by their position (index)\n",
    "tuple_example = (10, 20, 30, 40, 50)\n",
    "print(\"Indexing Example:\")\n",
    "print(\"First element:\", tuple_example[0])  # Output: 10\n",
    "print(\"Last element:\", tuple_example[-1])  # Output: 50\n",
    "\n",
    "# 2. Slicing: Extracting a portion of the tuple by specifying a start and end index\n",
    "print(\"\\nSlicing Example:\")\n",
    "print(\"Elements from index 1 to 3:\", tuple_example[1:4])  # Output: (20, 30, 40)\n",
    "print(\"Elements from the beginning to index 2:\", tuple_example[:3])  # Output: (10, 20, 30)\n",
    "print(\"Elements from index 2 to the end:\", tuple_example[2:])  # Output: (30, 40, 50)\n",
    "\n",
    "# 3. Length: Getting the number of elements in the tuple using the len() function\n",
    "print(\"\\nLength Example:\")\n",
    "print(\"Length of the tuple:\", len(tuple_example))  # Output: 5\n",
    "\n",
    "\n"
   ]
  },
  {
   "cell_type": "markdown",
   "metadata": {},
   "source": [
    "# 3. Sets \n",
    "\n",
    "A set is an unorderes collection of unique elements. Duplicate values are not allowed.\n",
    "\n",
    "# Use cases for sets:\n",
    "\n",
    "- Removing duplicates set operations like union,intersection, and difference."
   ]
  },
  {
   "cell_type": "code",
   "execution_count": 5,
   "metadata": {},
   "outputs": [
    {
     "name": "stdout",
     "output_type": "stream",
     "text": [
      "{1, 2, 3, 4, 5}\n",
      "{1, 2, 3, 4, 5, 6}\n",
      "{1, 2, 4, 5, 6}\n",
      "{1, 2, 4, 5, 6}\n",
      "{4, 5, 6}\n",
      "{1, 2, 4, 5, 6, 7}\n"
     ]
    }
   ],
   "source": [
    "set_example = {1, 2, 3, 4, 5}\n",
    "print(set_example)\n",
    "\n",
    "set_example.add(6) # Adds an element\n",
    "print(set_example)\n",
    "set_example.remove(3) # Removes an element      \n",
    "print(set_example)\n",
    "set_example.discard(7) # Removes an element an , does nothing if the element is not found\n",
    "print(set_example)\n",
    "\n",
    "intersection = set_example.intersection({4, 5, 6})\n",
    "print(intersection)\n",
    "\n",
    "union = set_example.union({6, 7})\n",
    "print(union)"
   ]
  },
  {
   "cell_type": "code",
   "execution_count": 6,
   "metadata": {},
   "outputs": [
    {
     "name": "stdout",
     "output_type": "stream",
     "text": [
      "\n",
      "Membership Test Example:\n",
      "Is 30 in set? True\n",
      "Is 60 in set? False\n",
      "\n",
      "Length Example:\n",
      "Length of the set: 5\n"
     ]
    }
   ],
   "source": [
    "# OPerations on sets:\n",
    "\n",
    "# 1. Membership Test: Checking if an element is present in the set \n",
    "set_example = {10, 20, 30, 40, 50}\n",
    "print(\"\\nMembership Test Example:\")\n",
    "print(\"Is 30 in set?\", 30 in set_example)  # Output: True\n",
    "print(\"Is 60 in set?\", 60 in set_example)  # Output: False\n",
    "\n",
    "# 2. Length: Getting the number of elements in the set using len()\n",
    "print(\"\\nLength Example:\")\n",
    "print(\"Length of the set:\", len(set_example))  # Output: 5"
   ]
  },
  {
   "cell_type": "markdown",
   "metadata": {},
   "source": [
    "# 4. Dictionaries\n",
    "\n",
    "A dictionary is an unordered collection of key-value pairs. Keys are unique, and values can be of any data type.\n",
    "\n",
    "# Use cases for dictionaries:\n",
    " \n",
    "- Storing key-value pairs such as user data (name,age,etc.).\n",
    "- Performing lookups based on unique keys."
   ]
  },
  {
   "cell_type": "code",
   "execution_count": 7,
   "metadata": {},
   "outputs": [
    {
     "name": "stdout",
     "output_type": "stream",
     "text": [
      "{'name': 'alice', 'age': 25}\n",
      "{'name': 'alice', 'age': 25, 'city': 'New york'}\n",
      "25\n",
      "25\n",
      "{'name': 'alice', 'city': 'New york'}\n",
      "dict_keys(['name', 'city'])\n",
      "dict_values(['alice', 'New york'])\n"
     ]
    }
   ],
   "source": [
    "dict_example = {\"name\": \"alice\", \"age\": 25}\n",
    "print(dict_example)\n",
    "dict_example[\"city\"] = \"New york\" # Adds a new key-value pair\n",
    "print(dict_example)\n",
    "\n",
    "print(dict_example.get(\"age\")) # Retrieves the value associated with a key\n",
    "print(dict_example.pop(\"age\")) # Removes a key-pair\n",
    "print(dict_example)\n",
    "print(dict_example.keys()) #Returns a view of all keys\n",
    "print(dict_example.values()) # Returns a view of all values"
   ]
  },
  {
   "cell_type": "code",
   "execution_count": 9,
   "metadata": {},
   "outputs": [
    {
     "name": "stdout",
     "output_type": "stream",
     "text": [
      "\n",
      "Indexing (Key Lookup) Example:\n",
      "Name Alice\n",
      "City: New York\n",
      "\n",
      "keys and values Example:\n",
      "Length of the dictionary: 3\n",
      "\n",
      "keys and values Example:\n",
      "Keys: dict_keys(['name', 'age', 'city'])\n"
     ]
    }
   ],
   "source": [
    "# Operations on Dictionaries:\n",
    "\n",
    "# 1. Indexing (Key Lookup): Accessing values in the dictionary by their key \n",
    "dict_example = {\"name\": \"Alice\", \"age\": 25, \"city\": \"New York\"}\n",
    "print(\"\\nIndexing (Key Lookup) Example:\")\n",
    "print(\"Name\", dict_example[\"name\"])  # Output: Alice\n",
    "print(\"City:\", dict_example[\"city\"]) # Output: New York\n",
    "\n",
    "# 2. Length: Getting the number of key-value pairs in the dictionary using len()\n",
    "print(\"\\nkeys and values Example:\")\n",
    "print(\"Length of the dictionary:\", len(dict_example))   # Output: 3\n",
    "\n",
    "# 3. Keys and Values: Geting all keys and all keys values from the dictionary\n",
    "print(\"\\nkeys and values Example:\")\n",
    "print(\"Keys:\", dict_example.keys())  # Output: dict_keys(['Alice', 25, 'New York'])"
   ]
  },
  {
   "cell_type": "markdown",
   "metadata": {},
   "source": [
    "# 5. Common Use Cases in Data Manipulation\n",
    "\n",
    "- Lists for ordered collections of items datasets, sequences, etc.\n",
    "- Tuples for fixed data collections(e.g. coordinates, RGB values).\n",
    "- Sets for unique items, eliminating duplicates.\n",
    "- Dictionaries for mapping keys to values, such as counting occurences."
   ]
  },
  {
   "cell_type": "code",
   "execution_count": null,
   "metadata": {},
   "outputs": [],
   "source": []
  }
 ],
 "metadata": {
  "kernelspec": {
   "display_name": "Python 3",
   "language": "python",
   "name": "python3"
  },
  "language_info": {
   "codemirror_mode": {
    "name": "ipython",
    "version": 3
   },
   "file_extension": ".py",
   "mimetype": "text/x-python",
   "name": "python",
   "nbconvert_exporter": "python",
   "pygments_lexer": "ipython3",
   "version": "3.13.0"
  }
 },
 "nbformat": 4,
 "nbformat_minor": 2
}

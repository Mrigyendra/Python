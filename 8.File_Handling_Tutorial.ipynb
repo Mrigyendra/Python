{
 "cells": [
  {
   "cell_type": "markdown",
   "metadata": {},
   "source": [
    "# File Handling in Python\n",
    "\n",
    "File handling is essential for managing data stored in files. Python makes it easy to work with using built-in functions and modules."
   ]
  },
  {
   "cell_type": "markdown",
   "metadata": {},
   "source": [
    "## 1. Basics of File Handling"
   ]
  },
  {
   "cell_type": "markdown",
   "metadata": {},
   "source": [
    "### Opening a File\n",
    "\n",
    "Use the `open()` function to open a file.\n",
    "```python\n",
    "file = open(\"example.txt\", \"r\")    # Open a file in read mode\n",
    "```\n",
    "Modes:\n",
    "- `\"r\"`: Read (default)\n",
    "- `\"w\"`: Write (creates a new file or overwrites existing content)\n",
    "- `\"a\"`: Append (adds data to the end of the file)\n",
    "- `\"r+\"`: Read and write\n"
   ]
  },
  {
   "cell_type": "markdown",
   "metadata": {},
   "source": [
    "### Closing a File\n",
    "\n",
    "Always close the file to free up system resources.\n",
    "```python\n",
    "file.close()\n",
    "```"
   ]
  },
  {
   "cell_type": "markdown",
   "metadata": {},
   "source": [
    "## 2. Reading and Writing Files"
   ]
  },
  {
   "cell_type": "markdown",
   "metadata": {},
   "source": [
    "### Reading a File\n",
    "**Reading Entire Content**:\n",
    "```python\n",
    "file = open(\"example.txt\", \"r\")\n",
    "content = file.read()\n",
    "print(content)\n",
    "file.close()\n",
    "```\n",
    "**Reading Line by Line**:\n",
    "```python\n",
    "file = open(\"example.txt\", \"r\")\n",
    "for line in file:\n",
    "    print(line.strip())    # Removes extra spaces/newlines\n",
    "file.close()\n",
    "```    "
   ]
  },
  {
   "cell_type": "markdown",
   "metadata": {},
   "source": [
    "## Writing:"
   ]
  },
  {
   "cell_type": "code",
   "execution_count": 30,
   "metadata": {},
   "outputs": [],
   "source": [
    "### Writing to a File\n",
    "\n",
    "file = open(\"example.txt\", \"w\")\n",
    "file.write(\"Mrigyendra Singh\")\n",
    "file.close()\n",
    "\n",
    "file = open(\"example.txt\", \"a\")\n",
    "file.write(\"\\nAdding more text!\")\n",
    "file.close()\n"
   ]
  },
  {
   "cell_type": "markdown",
   "metadata": {},
   "source": [
    "## Reading:"
   ]
  },
  {
   "cell_type": "code",
   "execution_count": 31,
   "metadata": {},
   "outputs": [
    {
     "name": "stdout",
     "output_type": "stream",
     "text": [
      "Mrigyendra Singh\n",
      "Adding more text!\n",
      "Mrigyendra Singh\n",
      "Adding more text!\n"
     ]
    }
   ],
   "source": [
    "### Reading a File\n",
    "\n",
    "file = open(\"example.txt\", \"r\")\n",
    "content = file.read()\n",
    "print(content)\n",
    "file.close()\n",
    "\n",
    "file = open(\"example.txt\", \"r\")\n",
    "for line in file:\n",
    "    print(line.strip())   # Removes extra spaces/newlines\n",
    "file.close()    "
   ]
  },
  {
   "cell_type": "markdown",
   "metadata": {},
   "source": [
    "<!-- ## 3. Using Context Managers (`with` Statement)\n",
    "\n",
    "The `with` statement is a better way to handle files because it automatically closes the file after the block is executed.\n",
    "\n",
    "\n",
    " -->\n"
   ]
  },
  {
   "cell_type": "code",
   "execution_count": 46,
   "metadata": {},
   "outputs": [
    {
     "name": "stdout",
     "output_type": "stream",
     "text": [
      "Mrigyendra Singh\n",
      "Adding more text!\n"
     ]
    }
   ],
   "source": [
    "with open(\"example.txt\", \"r\") as file:\n",
    "    content = file.read()\n",
    "    print(content)\n",
    "# no need to call file.close()"
   ]
  },
  {
   "cell_type": "markdown",
   "metadata": {},
   "source": [
    "# 4. Working with JSON and CSV Files"
   ]
  },
  {
   "cell_type": "markdown",
   "metadata": {},
   "source": [
    "### JSON Files\n",
    "\n",
    "Used to store data in a structured format (key-value pairs)."
   ]
  },
  {
   "cell_type": "code",
   "execution_count": 1,
   "metadata": {},
   "outputs": [],
   "source": [
    "# Writing JSON\n",
    "\n",
    "import json\n",
    "\n",
    "data = {\"name\": \"Mrigyendra\", \"age\": 20}\n",
    "with open (\"data.json\", \"w\") as file:\n",
    "    json.dump(data, file)   # Save dictiionary to JSON"
   ]
  },
  {
   "cell_type": "code",
   "execution_count": 2,
   "metadata": {},
   "outputs": [
    {
     "name": "stdout",
     "output_type": "stream",
     "text": [
      "{'name': 'Mrigyendra', 'age': 20}\n"
     ]
    }
   ],
   "source": [
    "# Reading JSON\n",
    "with open(\"data.json\", \"r\") as file:\n",
    "    data = json.load(file)  # Load JSON as a dictionary\n",
    "    print(data)"
   ]
  },
  {
   "cell_type": "markdown",
   "metadata": {},
   "source": [
    "### CSV Files\n",
    "Used to handle tabular data (rows and columns)."
   ]
  },
  {
   "cell_type": "markdown",
   "metadata": {},
   "source": [
    "## Writing CSV "
   ]
  },
  {
   "cell_type": "code",
   "execution_count": 49,
   "metadata": {},
   "outputs": [],
   "source": [
    "import csv\n",
    "\n",
    "data = [[\"Name\", \"Age\"], [\"Alice\", 25], [\"Mrigyendra Singh\", 20]]\n",
    "with open(\"data.csv\", \"w\", newline=\"\") as file:\n",
    "    writer = csv.writer(file)\n",
    "    writer.writerows(data)"
   ]
  },
  {
   "cell_type": "markdown",
   "metadata": {},
   "source": [
    "## Reading CSV"
   ]
  },
  {
   "cell_type": "code",
   "execution_count": 50,
   "metadata": {},
   "outputs": [
    {
     "name": "stdout",
     "output_type": "stream",
     "text": [
      "['Name', 'Age']\n",
      "['Alice', '25']\n",
      "['Mrigyendra Singh', '20']\n"
     ]
    }
   ],
   "source": [
    "with open(\"data.csv\", \"r\") as file:\n",
    "    reader = csv.reader(file)\n",
    "    for row in reader:\n",
    "        print(row)"
   ]
  },
  {
   "cell_type": "markdown",
   "metadata": {},
   "source": [
    "\n",
    "## 5. Practice Tasks for Beginners\n",
    "\n",
    "1. Create a file and write your name in it.\n",
    "2. Read the content of the file you created and display it on the screen.\n",
    "3. Append your age to the same file.\n",
    "4. Create a JSON file with your details (name, age, country).\n",
    "5. Read and print the data from a CSV file."
   ]
  },
  {
   "cell_type": "markdown",
   "metadata": {},
   "source": [
    "# Practice task"
   ]
  },
  {
   "cell_type": "code",
   "execution_count": 28,
   "metadata": {},
   "outputs": [
    {
     "name": "stdout",
     "output_type": "stream",
     "text": [
      "Mrigyendra Singh lives in Dhangadhi.\n",
      "Age 20\n",
      "Mrigyendra Singh lives in Dhangadhi.\n",
      "Age 20\n"
     ]
    }
   ],
   "source": [
    "# Writing\n",
    "file = open(\"my_name.txt\", \"w\")  \n",
    "file.write(\"Mrigyendra Singh lives in Dhangadhi.\")   \n",
    "file.close()                    \n",
    "# Append\n",
    "file = open(\"my_name.txt\", \"a\")\n",
    "file.write(\"\\nAge 20\")\n",
    "file.close()\n",
    "\n",
    "# Reading\n",
    "file = open(\"my_name.txt\", \"r\")  \n",
    "content = file.read()            \n",
    "print(content)                   \n",
    "file.close()           \n",
    "          \n",
    "file = open(\"my_name.txt\", \"r\")\n",
    "for line in file:\n",
    "    print(line.strip())\n",
    "file.close()          \n",
    "\n"
   ]
  },
  {
   "cell_type": "code",
   "execution_count": 36,
   "metadata": {},
   "outputs": [],
   "source": [
    "# Writing JSON\n",
    "import json\n",
    "data = {\"name\": \"Mrigyendra Singh\", \"age\":20}\n",
    "with open (\"data.json\", \"w\") as file:\n",
    "    json.dump(data, file)       # Save dictionary to JSON "
   ]
  },
  {
   "cell_type": "code",
   "execution_count": 35,
   "metadata": {},
   "outputs": [
    {
     "name": "stdout",
     "output_type": "stream",
     "text": [
      "{'name': 'Mrigyendra Singh', 'age': 20}\n"
     ]
    }
   ],
   "source": [
    "# Reading JSON\n",
    "with open(\"data.json\", \"r\") as file:\n",
    "    data = json.load(file)    # Load JSON as a dictionary\n",
    "print(data)"
   ]
  },
  {
   "cell_type": "code",
   "execution_count": 37,
   "metadata": {},
   "outputs": [],
   "source": [
    "import csv\n",
    "\n",
    "data = [[\"Name\", \"Age\"], [\"Alice\", 25], [\"Mrigyendra Singh\", 20]]\n",
    "with open(\"data.csv\", \"w\", newline=\"\") as file:\n",
    "    writer = csv.writer(file)\n",
    "    writer.writerows(data)"
   ]
  },
  {
   "cell_type": "code",
   "execution_count": 38,
   "metadata": {},
   "outputs": [
    {
     "name": "stdout",
     "output_type": "stream",
     "text": [
      "['Name', 'Age']\n",
      "['Alice', '25']\n",
      "['Mrigyendra Singh', '20']\n"
     ]
    }
   ],
   "source": [
    "with open(\"data.csv\", \"r\") as file:\n",
    "    reader = csv.reader(file)\n",
    "    for row in reader:\n",
    "        print(row)"
   ]
  }
 ],
 "metadata": {
  "kernelspec": {
   "display_name": "Python 3",
   "language": "python",
   "name": "python3"
  },
  "language_info": {
   "codemirror_mode": {
    "name": "ipython",
    "version": 3
   },
   "file_extension": ".py",
   "mimetype": "text/x-python",
   "name": "python",
   "nbconvert_exporter": "python",
   "pygments_lexer": "ipython3",
   "version": "3.13.0"
  }
 },
 "nbformat": 4,
 "nbformat_minor": 2
}

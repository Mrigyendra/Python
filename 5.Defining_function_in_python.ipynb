{
 "cells": [
  {
   "cell_type": "markdown",
   "metadata": {},
   "source": [
    "Function: A function in programming is a block of reusable code that performs a specific task."
   ]
  },
  {
   "cell_type": "markdown",
   "metadata": {},
   "source": [
    "# Python Functions\n",
    "\n",
    "A function is a block of code that only runs when it is called.\n",
    "\n",
    "You can pass data, known as parameters, into a function.\n",
    "\n",
    "A function can return data as a result.\n",
    "\n",
    "## Defining a Function in Python \n",
    "\n",
    "In Python, functions are defined using the `def` keyword, followed by the function name, parentheses, and a colon. The body contains the code to execute and is intended.\n",
    "\n",
    "\n",
    "# Syntax of a Function in Python\n",
    "\n",
    "```python\n",
    "def function_name(parameters):\n",
    "\n",
    "    # code block\n",
    "    return value # Optional return statement\n",
    "\n",
    "\n",
    "\n",
    "## Creating a Function\n",
    "\n",
    "In Python, a function is defined using the `def` keywords:\n"
   ]
  },
  {
   "cell_type": "code",
   "execution_count": 2,
   "metadata": {},
   "outputs": [
    {
     "name": "stdout",
     "output_type": "stream",
     "text": [
      "Hello from a function\n",
      "Hello from a function\n",
      "Hello from a function\n"
     ]
    }
   ],
   "source": [
    "# Example of defining and calling a function \n",
    "def my_function():  #creating function\n",
    "    print(\"Hello from a function\")\n",
    "\n",
    "\n",
    "my_function()\n",
    "my_function()\n",
    "my_function()"
   ]
  },
  {
   "cell_type": "code",
   "execution_count": 3,
   "metadata": {},
   "outputs": [
    {
     "name": "stdout",
     "output_type": "stream",
     "text": [
      " Hello\n",
      " Hello\n"
     ]
    }
   ],
   "source": [
    "def function():\n",
    "    print(\" Hello\")\n",
    "\n",
    "function()\n",
    "function()\n"
   ]
  },
  {
   "cell_type": "markdown",
   "metadata": {},
   "source": [
    "### Key Components\n",
    "\n",
    "  - `def`: The keyword used to define a function.\n",
    "  - **Function Name**: A unique identifier for the function (e.g. `calculate_sum`).\n",
    "  - **Parameters**: Variable to accept inputs inside parentheses (e.g. `x`,`y`): optional.\n",
    "  - **Function Body**: Contains the logic/code to execute.\n",
    "  - `return` **Statement**: Specifies the output of the function; optional."
   ]
  },
  {
   "cell_type": "markdown",
   "metadata": {},
   "source": [
    "### Example 1: Basic Function\n",
    "\n",
    "Positional Arguments Definition: Arguments are passed in the order in which parameters are defined in the function."
   ]
  },
  {
   "cell_type": "code",
   "execution_count": 4,
   "metadata": {},
   "outputs": [
    {
     "name": "stdout",
     "output_type": "stream",
     "text": [
      "Hello, Alice!\n"
     ]
    }
   ],
   "source": [
    "def greet(name):\n",
    "    mess=f\"Hello, {name}!\"\n",
    "    return mess\n",
    "\n",
    "# Calling the \n",
    "message = greet(\"Alice\")\n",
    "print(message) # Outpit: Hello, Alice"
   ]
  },
  {
   "cell_type": "markdown",
   "metadata": {},
   "source": [
    "### Example 2: Function with Multiple Parameters"
   ]
  },
  {
   "cell_type": "code",
   "execution_count": 5,
   "metadata": {},
   "outputs": [
    {
     "name": "stdout",
     "output_type": "stream",
     "text": [
      "12\n",
      "60\n",
      "24\n"
     ]
    }
   ],
   "source": [
    "def add_numbers(a, b):\n",
    "    c=a+b\n",
    "    return c\n",
    "\n",
    "# Calling the function\n",
    "result = add_numbers(5, 7)\n",
    "print(result) # Output: 12\n",
    "\n",
    "result = add_numbers(10, 50)\n",
    "print(result)\n",
    "\n",
    "res2= add_numbers(9, 15)\n",
    "print(res2)"
   ]
  },
  {
   "cell_type": "markdown",
   "metadata": {},
   "source": [
    "### Example 3: Function with Default Arguments"
   ]
  },
  {
   "cell_type": "code",
   "execution_count": 6,
   "metadata": {},
   "outputs": [
    {
     "name": "stdout",
     "output_type": "stream",
     "text": [
      "Hello, User!\n",
      "Hello, User!\n",
      "Hello, Mrigyendra!\n"
     ]
    }
   ],
   "source": [
    "def greet(name=\"User\"):\n",
    "    c= f\"Hello, {name}!\"\n",
    "    return c\n",
    "\n",
    "# Calling the function without an argument\n",
    "message= greet()\n",
    "print(message)\n",
    "print(greet())\n",
    "\n",
    "message2=greet(\"Mrigyendra\")\n",
    "print(message2)\n",
    "\n",
    "# print(greet()) # Output: Hello User!\n",
    "## Calling the function without an argument# print(greet(\"Alice\")) # Output: Hello, Alice!"
   ]
  },
  {
   "cell_type": "markdown",
   "metadata": {},
   "source": [
    "### Example 4: Function Using Keywords Argument"
   ]
  },
  {
   "cell_type": "code",
   "execution_count": 7,
   "metadata": {},
   "outputs": [
    {
     "name": "stdout",
     "output_type": "stream",
     "text": [
      "John is 25 years old and lives in New York.\n"
     ]
    }
   ],
   "source": [
    "def describe_person(name, age, city):\n",
    "    details=f\"{name} is {age} years old and lives in {city}.\"\n",
    "    return details\n",
    "\n",
    "# Calling the function using keyword arguments\n",
    "print(describe_person(age=25, city=\"New York\", name=\"John\"))\n",
    "# Output: John is 25 years old and lives in New York."
   ]
  },
  {
   "cell_type": "markdown",
   "metadata": {},
   "source": [
    "### Example 5: Function Without a return statement"
   ]
  },
  {
   "cell_type": "code",
   "execution_count": 8,
   "metadata": {},
   "outputs": [
    {
     "name": "stdout",
     "output_type": "stream",
     "text": [
      "Hello World!\n",
      "None\n"
     ]
    }
   ],
   "source": [
    "def display_message(message):\n",
    "\n",
    "    print(message)\n",
    "\n",
    "# Calling the function\n",
    "print(display_message(\"Hello World!\"))\n",
    "# Output: Hello, world!    "
   ]
  },
  {
   "cell_type": "markdown",
   "metadata": {},
   "source": [
    "### Benefits of Functions\n",
    "- **Reusability**: Write once, use multiple times.\n",
    "- **Modularity**: Divide complex tasks into smaller, manageable chunks.\n",
    "- **Improved Readability**: Makes the code cleaner and easier to follow.\n",
    "- **Ease of Maintenance**: Modifications in one function don’t affect the rest of the code."
   ]
  },
  {
   "cell_type": "markdown",
   "metadata": {},
   "source": [
    "1. Find Maximum of Two Numbers"
   ]
  },
  {
   "cell_type": "code",
   "execution_count": 9,
   "metadata": {},
   "outputs": [
    {
     "name": "stdout",
     "output_type": "stream",
     "text": [
      "20\n",
      "0\n",
      "5\n"
     ]
    }
   ],
   "source": [
    "# Function to find the maximum of two numbers \n",
    "def find_max(num1, num2):\n",
    "    return num1 if num1 > num2 else num2\n",
    "\n",
    "# Example function calls\n",
    "result1 = find_max(10, 20)\n",
    "print(result1) # Output: 20\n",
    "\n",
    "result2 = find_max(-5, 0)\n",
    "print(result2) # Output: 0\n",
    "\n",
    "result3 = find_max(5, 5)\n",
    "print(result3) # Output: 5"
   ]
  },
  {
   "cell_type": "markdown",
   "metadata": {},
   "source": [
    "2. Check Even or Odd"
   ]
  },
  {
   "cell_type": "code",
   "execution_count": 10,
   "metadata": {},
   "outputs": [
    {
     "name": "stdout",
     "output_type": "stream",
     "text": [
      "True\n",
      "False\n",
      "True\n"
     ]
    }
   ],
   "source": [
    "# Function to check if a number is even \n",
    "def is_even(number):\n",
    "\n",
    "    return number % 2 == 0\n",
    "\n",
    "# Example function cxalls \n",
    "result1 = is_even(4)\n",
    "print(result1)  # Output: True\n",
    "\n",
    "result2 = is_even(7)\n",
    "print(result2)  # Output: False\n",
    "\n",
    "result3 = is_even(0)\n",
    "print(result3)       # Output: True"
   ]
  },
  {
   "cell_type": "markdown",
   "metadata": {},
   "source": [
    "### calculate the area of rectangle"
   ]
  },
  {
   "cell_type": "code",
   "execution_count": 12,
   "metadata": {},
   "outputs": [
    {
     "name": "stdout",
     "output_type": "stream",
     "text": [
      "50\n",
      "21\n",
      "0\n"
     ]
    }
   ],
   "source": [
    "# Function to calculate the area of a rectangle\n",
    "def rectangle_area(length, width):\n",
    "    return length * width\n",
    "\n",
    "# Example function calls\n",
    "result1 = rectangle_area(5, 10)\n",
    "print(result1) # Output: 50\n",
    "\n",
    "result2 = rectangle_area(7, 3)\n",
    "print(result2) # Output: 21\n",
    "\n",
    "result3 = rectangle_area(0, 10)\n",
    "print(result3) # Output: 0"
   ]
  },
  {
   "cell_type": "code",
   "execution_count": 1,
   "metadata": {},
   "outputs": [
    {
     "name": "stdout",
     "output_type": "stream",
     "text": [
      "2\n",
      "1\n",
      "5\n",
      "0\n"
     ]
    }
   ],
   "source": [
    "# Function to count the number of vowels in a string\n",
    "def count_vowels(string):\n",
    "    vowels = \"aeiouAEIOU\"\n",
    "    count = 0\n",
    "    for char in string:\n",
    "        if char in vowels:\n",
    "            count += 1\n",
    "    return count\n",
    "    \n",
    "# Example function calls\n",
    "result1 = count_vowels(\"hello\")\n",
    "print(result1) # output: 2\n",
    " \n",
    "result2 = count_vowels(\"Python\")\n",
    "print(result2) # output: 1\n",
    "\n",
    "result3 = count_vowels(\"beautiful\")\n",
    "print(result3) # output: 5\n",
    "\n",
    "result4 = count_vowels(\"\")\n",
    "print(result4) # output: 0"
   ]
  },
  {
   "cell_type": "code",
   "execution_count": 5,
   "metadata": {},
   "outputs": [
    {
     "name": "stdout",
     "output_type": "stream",
     "text": [
      "The factorial of 3 is 6.\n"
     ]
    }
   ],
   "source": [
    "def factorial():\n",
    "    num = int(input(\"Enter a number to calculate its factorial:\"))\n",
    "    if num < 0:\n",
    "        print(\"Factorial not defined for negative numberts.\")\n",
    "        return\n",
    "    result = 1\n",
    "    for i in range(1, num + 1):\n",
    "        result *= i\n",
    "    print(f\"The factorial of {num} is {result}.\")\n",
    "\n",
    "factorial()"
   ]
  },
  {
   "cell_type": "code",
   "execution_count": 7,
   "metadata": {},
   "outputs": [
    {
     "name": "stdout",
     "output_type": "stream",
     "text": [
      "The reverse of '943' is '349'.\n"
     ]
    }
   ],
   "source": [
    "def reverse_string():\n",
    "    s = input(\"Enter a string to reverse:\")\n",
    "    reversed_str = \"\"\n",
    "    for char in s:\n",
    "        reversed_str = char + reversed_str\n",
    "    print(f\"The reverse of '{s}' is '{reversed_str}'.\")\n",
    "\n",
    "reverse_string()    "
   ]
  },
  {
   "cell_type": "markdown",
   "metadata": {},
   "source": [
    "# Python Lambda Functions\n",
    "\n",
    "In Python, a **lambda function** is a small anonymous function that can have any number of arguments but only one expression. It is written using the `lambda` keyword.\n",
    "\n",
    "## Syntax\n",
    "```python\n",
    "lambda arguments: expression\n",
    "arguments: The parameters you want to pass to the function.\n",
    "expression: The single expression the function evaluates and returns."
   ]
  },
  {
   "cell_type": "code",
   "execution_count": 10,
   "metadata": {},
   "outputs": [
    {
     "name": "stdout",
     "output_type": "stream",
     "text": [
      "8\n"
     ]
    }
   ],
   "source": [
    "add = lambda x, y: x + y\n",
    "print(add(5, 3))\n"
   ]
  },
  {
   "cell_type": "code",
   "execution_count": 12,
   "metadata": {},
   "outputs": [
    {
     "name": "stdout",
     "output_type": "stream",
     "text": [
      "16\n"
     ]
    }
   ],
   "source": [
    "square = lambda x: x ** 2\n",
    "print(square(4))  # Output: 16\n"
   ]
  },
  {
   "cell_type": "code",
   "execution_count": 11,
   "metadata": {},
   "outputs": [
    {
     "name": "stdout",
     "output_type": "stream",
     "text": [
      "[2, 4]\n"
     ]
    }
   ],
   "source": [
    "numbers = [1, 2, 3, 4, 5]\n",
    "\n",
    "# Using filter to get even numbers\n",
    "even_numbers = list(filter(lambda x: x % 2 == 0, numbers))\n",
    "print(even_numbers)  # Output: [2, 4]\n"
   ]
  },
  {
   "cell_type": "code",
   "execution_count": 13,
   "metadata": {},
   "outputs": [
    {
     "name": "stdout",
     "output_type": "stream",
     "text": [
      "[2, 6, 10]\n"
     ]
    }
   ],
   "source": [
    "numbers = [1, 2, 3, 4, 5]\n",
    "\n",
    "# Filter odd numbers, then double them\n",
    "odd_doubled = list(map(lambda x: x * 2, filter(lambda x: x % 2 != 0, numbers)))\n",
    "print(odd_doubled)  # Output: [2, 6, 10]\n"
   ]
  },
  {
   "cell_type": "markdown",
   "metadata": {},
   "source": [
    "# Python Scope and Variables\n",
    "\n",
    "In Python, the scope of a variable refers to the part part of the program where a variable can be accessed or modified. Understanding variable scope is crucial when working with functions, loops, and classes.\n",
    "\n",
    "\n",
    "# Types of Scopes in Python \n",
    "\n",
    "### **1.Local Scope** \n",
    "\n",
    "A variable is in the **local scope** if it is defined inside a function. It can only be accessed within that function.\n",
    "\n",
    "```Python\n",
    "def my_function():\n",
    "    x = 10   # 'x' is in the local scope of my_function\n",
    "    print(x) # Output: 10\n",
    "\n",
    "my_function()\n",
    "# print(x)    # This would raise an error because 'x' is not in the global scope|"
   ]
  },
  {
   "cell_type": "markdown",
   "metadata": {},
   "source": [
    "### 2. Global Scope\n",
    "\n",
    "A variable is in the global scope if it is defined outside of all functions. It can be accessed anywhere in the program, but it should be declared `global` inside a function if you want to modify it."
   ]
  },
  {
   "cell_type": "code",
   "execution_count": 20,
   "metadata": {},
   "outputs": [
    {
     "name": "stdout",
     "output_type": "stream",
     "text": [
      "10\n",
      "20\n"
     ]
    }
   ],
   "source": [
    "x = 20\n",
    "def my_function():\n",
    "    x = 10   # 'C' is in the local scope of my_function\n",
    "    print(x) # Output: 10\n",
    "\n",
    "my_function()\n",
    "print(x)    "
   ]
  }
 ],
 "metadata": {
  "kernelspec": {
   "display_name": "Python 3",
   "language": "python",
   "name": "python3"
  },
  "language_info": {
   "codemirror_mode": {
    "name": "ipython",
    "version": 3
   },
   "file_extension": ".py",
   "mimetype": "text/x-python",
   "name": "python",
   "nbconvert_exporter": "python",
   "pygments_lexer": "ipython3",
   "version": "3.13.0"
  }
 },
 "nbformat": 4,
 "nbformat_minor": 2
}

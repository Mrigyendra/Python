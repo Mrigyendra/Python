{
 "cells": [
  {
   "cell_type": "markdown",
   "metadata": {},
   "source": [
    "# Operators in Python\n",
    "\n",
    "Operators are special symbols or keywords used to perform operations on values or variables. Python has a wide variety of operators, each serving a specific purpose, and they are categorized into different types based on the type of operation they perform."
   ]
  },
  {
   "cell_type": "markdown",
   "metadata": {},
   "source": [
    "## 1. Arithmetic Operators\n",
    "\n",
    "These operators are used to perform basic arithmetic operations such as addition, subtraction, multiplication, etc\n",
    "\n",
    "- **`+` (Addition)**: Adds two operands \n",
    "- **`-` (Subraction)**: Subtracts the right operand from the left operand.\n",
    "- **`*` (Multiplication)**: Multiplies two operands\n",
    "- **`/` (Division)**: Divides the left operand by the right operand (returns a floating-point result).\n",
    "- **`//` (Floor Division)**: Divides the left operand by the right operand and returns the quotient as an integer (rounded down).\n",
    "- **`%` (Modulus)**: Returns the remainder when the left operand is divided by the right operand.\n",
    "- **`**` (Exponentiation)**: Perfiorms exponential (power operation.)   \n",
    "\n"
   ]
  },
  {
   "cell_type": "code",
   "execution_count": null,
   "metadata": {},
   "outputs": [
    {
     "name": "stdout",
     "output_type": "stream",
     "text": [
      "8\n",
      "2\n",
      "15\n",
      "1.6666666666666667\n",
      "1\n",
      "2\n",
      "125\n"
     ]
    }
   ],
   "source": [
    "print(5 + 3)   # Addition\n",
    "print(5 - 3)   # Subtraction\n",
    "print(5 * 3)   # Multiplication\n",
    "print(5 / 3)   # Division Q\n",
    "print(5 // 3)  # Floor Division\n",
    "print(5 % 3)   # Modulus R\n",
    "print(5 ** 3)  # Exponentiation"
   ]
  },
  {
   "cell_type": "markdown",
   "metadata": {},
   "source": [
    "## **2. Comparison Operators**\n",
    "These Operators are used to compare two values. They return `True` or `False` depending on whether the comparision is true.\n",
    "\n",
    "- **`==` (Equal to)**\n",
    "- **`!=` (Not equal to)**\n",
    "- **`>`  (Greater than)**\n",
    "- **`<`  (Less than)**\n",
    "- **`>=  (greater than or equal to)**\n",
    "- **`<=` (Less than or equal to)**"
   ]
  },
  {
   "cell_type": "code",
   "execution_count": 22,
   "metadata": {},
   "outputs": [
    {
     "name": "stdout",
     "output_type": "stream",
     "text": [
      "True\n",
      "True\n",
      "True\n",
      "False\n",
      "True\n",
      "False\n"
     ]
    }
   ],
   "source": [
    "print(5 == 5)  # Equal to\n",
    "print(5 != 3)  # Not equal to\n",
    "print(5 > 3)   # Greater than\n",
    "print(5 < 3)   # Less than\n",
    "print(5 >= 5)  # Greater than or equal to\n",
    "print(5 <= 3)  # Less than or equal to"
   ]
  },
  {
   "cell_type": "markdown",
   "metadata": {},
   "source": []
  },
  {
   "cell_type": "markdown",
   "metadata": {},
   "source": [
    "## **3. Logical Operators**\n",
    "Logical operators are used to combine conditional statements and are mainly used in boolean expressions.\n",
    "\n",
    "- **`and`**: Returns `True` if both operands are true.\n",
    "- **`or`**: Returns `True` if at least one of the operands is true.\n",
    "- **`not`**: Reverses the boolean value of the operand."
   ]
  },
  {
   "cell_type": "code",
   "execution_count": 24,
   "metadata": {},
   "outputs": [
    {
     "name": "stdout",
     "output_type": "stream",
     "text": [
      "False\n",
      "True\n",
      "False\n"
     ]
    }
   ],
   "source": [
    "a=True\n",
    "b=False\n",
    "\n",
    "print(a and b)  # Logical AND\n",
    "print(a or b )   # Logical OR\n",
    "print(not a)      # Logical NOT"
   ]
  },
  {
   "cell_type": "markdown",
   "metadata": {},
   "source": []
  },
  {
   "cell_type": "markdown",
   "metadata": {},
   "source": [
    "## **4. Assignment Operators**\n",
    "Assignment operators are used to assign values to variables.\n",
    "\n",
    "- **`=` (Simple Assignment)**\n",
    "- **`+=` (Addition Assignment)**\n",
    "- **`-=` (Subtraction Assignment)**\n",
    "- **`*=` (Multiplication Assignment)**\n",
    "- **`/=` (Division Assignment)**\n",
    "- **`//=` (Floor Division Assignment)**\n",
    "- **`%=` (Modulus Assignment)**\n",
    "- **`**=` (Exponentiation Assignment)**"
   ]
  },
  {
   "cell_type": "code",
   "execution_count": 25,
   "metadata": {},
   "outputs": [
    {
     "name": "stdout",
     "output_type": "stream",
     "text": [
      "8\n",
      "6\n",
      "24\n"
     ]
    }
   ],
   "source": [
    "x = 5\n",
    "x += 3 \n",
    "print(x)  # Addition Assignment\n",
    "x -= 2\n",
    "print(x)  # Subtraction Assignment\n",
    "x *= 4\n",
    "print(x)  # Multiplication Assignment"
   ]
  },
  {
   "cell_type": "markdown",
   "metadata": {},
   "source": []
  },
  {
   "cell_type": "markdown",
   "metadata": {},
   "source": [
    "1. What are the different basic data types in Python?\n",
    "\n",
    "2. How do you declare a variable in Python? Provide an example.\n",
    "\n",
    "3. What will be the output of the following code?\n",
    "\n",
    "        x = 5\n",
    "        y = 3.5\n",
    "        z = \"Hello\"\n",
    "        print(type(x), type(y), type(z))\n",
    "\n",
    "4. What happens if you try to perform an arithmetic operation between two variables of incompatible data types (e.g., an integer and a string)?\n",
    "\n",
    "5. How would you convert a string \"123\" to an integer and then add 5 to it?\n",
    "\n",
    "6. What is the purpose of the id() function in Python, and how does it relate to variables and memory?\n",
    "\n",
    "7. Write a program to print area of circle\n",
    "\n",
    "8. Difference between list and tuples"
   ]
  },
  {
   "cell_type": "code",
   "execution_count": 26,
   "metadata": {},
   "outputs": [
    {
     "name": "stdout",
     "output_type": "stream",
     "text": [
      "The area of the circle is: 78.53981633974483\n",
      "The area of the square is: 144.00\n",
      "The area of the rectangle is: 195.00\n"
     ]
    }
   ],
   "source": [
    "#Write a program to print the area of Circle, Square and\n",
    "import math  # To use math.pi for the value of Pi\n",
    "\n",
    "# Input values\n",
    "radius = float(input(\"Enter the radius of the circle: \"))\n",
    "side = float(input(\"Enter the side length of the square: \"))\n",
    "length = float(input(\"Enter the length of the rectangle: \"))\n",
    "width = float(input(\"Enter the width of the rectangle: \"))\n",
    "\n",
    "# Calculate the area of the circle\n",
    "circle_area = math.pi * radius * radius\n",
    "\n",
    "# Calculate the area of the square\n",
    "square_area = side * side\n",
    "\n",
    "# Calculate the area of the rectangle\n",
    "rectangle_area = length * width\n",
    "\n",
    "# Print the areas\n",
    "print(f\"The area of the circle is: {circle_area:}\")\n",
    "print(f\"The area of the square is: {square_area:.2f}\")\n",
    "print(f\"The area of the rectangle is: {rectangle_area:.2f}\")\n"
   ]
  },
  {
   "cell_type": "markdown",
   "metadata": {},
   "source": [
    "# 2. Conditional_programs.ipynb\n"
   ]
  },
  {
   "cell_type": "markdown",
   "metadata": {},
   "source": [
    "# Write a program in python to check whether the given number is Even or Odd"
   ]
  },
  {
   "cell_type": "code",
   "execution_count": 29,
   "metadata": {},
   "outputs": [
    {
     "name": "stdout",
     "output_type": "stream",
     "text": [
      "The greatest number is 13.0.\n"
     ]
    }
   ],
   "source": [
    "# Input three numbers\n",
    "num1 = float(input(\"Enter the first number:10\"))\n",
    "num2 = float(input(\"Enter the second number:12\"))\n",
    "num3 = float(input(\"Enter the third number:13\"))\n",
    "\n",
    "# Determine and print the gratest number\n",
    "if num1 > num2 and num1 > num3:\n",
    "     print(f\"The gratest number is {num1}.\")\n",
    "elif num2 > num1 and num2 > num3:\n",
    "     print(f\"The greatest number is {num2}.\")\n",
    "elif num3 > num1 and num3 > num2:\n",
    "     print(f\"The greatest number is {num3}.\")\n",
    "else: \n",
    "     print(\"Two or more numbers are equal and the greatest.\")       \n",
    "       "
   ]
  },
  {
   "cell_type": "markdown",
   "metadata": {},
   "source": [
    "# Write a program in python to check whether the given number is Even or Odd"
   ]
  },
  {
   "cell_type": "code",
   "execution_count": 28,
   "metadata": {},
   "outputs": [
    {
     "name": "stdout",
     "output_type": "stream",
     "text": [
      "|10 is a even number.\n"
     ]
    }
   ],
   "source": [
    "#Input number from the user \n",
    "num = int(input('Enter a number:'))\n",
    "# Check if the number is even or odd\n",
    "if num % 2 == 0:\n",
    "    print(f'|{num} is a even number.')\n",
    "else:\n",
    "    print(f'{num} is an odd number.')    "
   ]
  },
  {
   "cell_type": "markdown",
   "metadata": {},
   "source": [
    "# Write a python program that checks if a number is positive, negative, or zero:"
   ]
  },
  {
   "cell_type": "code",
   "execution_count": null,
   "metadata": {},
   "outputs": [
    {
     "name": "stdout",
     "output_type": "stream",
     "text": [
      "The number is positive.\n"
     ]
    }
   ],
   "source": [
    "# Input number from the user\n",
    "num = float(input('Enter a number:'))\n",
    "\n",
    "# Conditional statements to check the number\n",
    "if num > 0:\n",
    "    print('The number is positive.')\n",
    "elif num < 0:\n",
    "    print('The number is negative.')\n",
    "else:\n",
    "    print('The number is zero.')         "
   ]
  },
  {
   "cell_type": "markdown",
   "metadata": {},
   "source": [
    "# Grade Evaluation "
   ]
  },
  {
   "cell_type": "code",
   "execution_count": null,
   "metadata": {},
   "outputs": [
    {
     "name": "stdout",
     "output_type": "stream",
     "text": [
      "Grade: C\n"
     ]
    }
   ],
   "source": [
    "# Input score from the user\n",
    "score = float(input('Enter your score:'))\n",
    "\n",
    "# Check the grade\n",
    "if score >= 90:\n",
    "    print('Grade: A')\n",
    "elif score >= 80:\n",
    "     print('Grade: B')\n",
    "elif score >= 70:\n",
    "      print('Grade: C')   \n",
    "elif score >=60:\n",
    "     print('Grade: D')   \n",
    "else:\n",
    "      print('Grade: F')         "
   ]
  },
  {
   "cell_type": "markdown",
   "metadata": {},
   "source": [
    "# Simple Divisiblity Check "
   ]
  },
  {
   "cell_type": "code",
   "execution_count": null,
   "metadata": {},
   "outputs": [
    {
     "name": "stdout",
     "output_type": "stream",
     "text": [
      "62 is not divisible by 5.\n"
     ]
    }
   ],
   "source": [
    "# Input number from the user \n",
    "num = int(input('Enter a number: '))\n",
    "\n",
    "# Check if the number is divisible by 5\n",
    "if num % 5 ==0:\n",
    "    print(f'{num} is divisible by 5.')\n",
    "else:\n",
    "    print(f'{num} is not divisible by 5.')    "
   ]
  },
  {
   "cell_type": "markdown",
   "metadata": {},
   "source": [
    "# Temperature Converter (Celsius to Fahrenheit)"
   ]
  },
  {
   "cell_type": "code",
   "execution_count": null,
   "metadata": {},
   "outputs": [
    {
     "name": "stdout",
     "output_type": "stream",
     "text": [
      "65.0°C is equal to 122.0°F.\n"
     ]
    }
   ],
   "source": [
    "# Input temperature from the user \n",
    "temp_celsius = float(input('Enter temperature in Celsius: '))\n",
    "\n",
    "# Convert to Fahrenheit \n",
    "temp_fahrenheit = (temp_celsius * 9/5)+5\n",
    "\n",
    "# Print the result \n",
    "print(f'{temp_celsius}°C is equal to {temp_fahrenheit}°F.')"
   ]
  },
  {
   "cell_type": "markdown",
   "metadata": {},
   "source": [
    "# Age category"
   ]
  },
  {
   "cell_type": "code",
   "execution_count": null,
   "metadata": {},
   "outputs": [
    {
     "name": "stdout",
     "output_type": "stream",
     "text": [
      "You are an adult.\n"
     ]
    }
   ],
   "source": [
    "# Input age from the user  \n",
    "age = int(input('Enter your age: '))\n",
    "\n",
    "# Check the age category \n",
    "if age < 13:\n",
    "    print('You are a child.')\n",
    "elif 13 <= age <= 19:\n",
    "    print('You are a teenager.')\n",
    "elif 20 <= age  <= 59:\n",
    "    print('You are an adult.') \n",
    "else: \n",
    "    print('You are a senior.') \n"
   ]
  },
  {
   "cell_type": "markdown",
   "metadata": {},
   "source": [
    "# Simple Calculator"
   ]
  },
  {
   "cell_type": "code",
   "execution_count": null,
   "metadata": {},
   "outputs": [
    {
     "name": "stdout",
     "output_type": "stream",
     "text": [
      "Welcome to the Simple calculator!\n",
      "Invalid operarion.\n"
     ]
    }
   ],
   "source": [
    "# Input from the user\n",
    "print('Welcome to the Simple calculator!')\n",
    "num1 = float(input('Enter the first number: '))\n",
    "num2 = float(input('Enter the second number: '))\n",
    "operarion = input('Enter an operarion (+, -, *, /): ')\n",
    "\n",
    "# Perform the calculation directly\n",
    "if operarion == '+' :\n",
    "    result = num1 + num2 \n",
    "    print(f'The result of {num1} + {num2} is {result}')\n",
    "elif operarion == '-':\n",
    "    result = num1 - num2 \n",
    "    print(f'The result of {num1} - {num2} is {result}')\n",
    "elif operarion == '*':\n",
    "    result = num1 * num2\n",
    "    print(f'The result of {num1} * {num2} is {result}')\n",
    "elif operarion == '/':\n",
    "    if num2 != 0:\n",
    "        result = num1 / num2 \n",
    "        print(f'The result of  {num1} / {num2} is {result}')    \n",
    "    else: \n",
    "        print('Error: Division by zero is not allowed.')\n",
    "else:\n",
    "    print('Invalid operarion.')\n",
    "\n",
    "\n",
    "       "
   ]
  },
  {
   "cell_type": "markdown",
   "metadata": {},
   "source": [
    "# Write a program to print greater number among 2 numbers"
   ]
  },
  {
   "cell_type": "code",
   "execution_count": null,
   "metadata": {},
   "outputs": [
    {
     "name": "stdout",
     "output_type": "stream",
     "text": [
      "The grater number is 5.0.\n"
     ]
    }
   ],
   "source": [
    "# Input two numbers\n",
    "num1 = float(input('Enter the first number: '))\n",
    "num2 = float(input('Enter the Second number: '))\n",
    "\n",
    "# Find and print the greater number\n",
    "if num1 > num2:\n",
    "    print(f'The grater number is {num1}.')\n",
    "elif num2 > num1:\n",
    "    print(f'The greater number is {num2}.')\n",
    "else:\n",
    "    print('Both numbers are equal.' )        "
   ]
  },
  {
   "cell_type": "markdown",
   "metadata": {},
   "source": [
    "# Write a program to print greatest number among 3 numbers"
   ]
  },
  {
   "cell_type": "code",
   "execution_count": 1,
   "metadata": {},
   "outputs": [
    {
     "name": "stdout",
     "output_type": "stream",
     "text": [
      "The greatest number is 60.0.\n"
     ]
    }
   ],
   "source": [
    "# Input three numbers\n",
    "num1 = float(input(\"Enter the first number:\"))\n",
    "num2 = float(input(\"Enter the second number:\"))\n",
    "num3 = float(input(\"Enter the third number:\"))\n",
    "\n",
    "# Determine and print the greatest number\n",
    "if num1 > num2 and num1 > num3:\n",
    "    print(f\"The greatest number is {num1}.\")\n",
    "elif num2 > num1 and num2 > num3:\n",
    "    print(f\"The greatest number is {num2}.\")\n",
    "elif num3 > num1 and num3 > num2:\n",
    "    print(f\"The greatest number is {num3}.\")\n",
    "else:\n",
    "    print(\"Two or more numbers are equal and the greatest.\")            "
   ]
  },
  {
   "cell_type": "code",
   "execution_count": 2,
   "metadata": {},
   "outputs": [
    {
     "name": "stdout",
     "output_type": "stream",
     "text": [
      "Welcome to the Number Guessing Game!\n",
      "Too low!\n",
      "Congratulations! You guessed it right.\n"
     ]
    }
   ],
   "source": [
    "import random\n",
    "\n",
    "# Step 1: Welcome message\n",
    "print(\"Welcome to the Number Guessing Game!\")\n",
    "\n",
    "# Step 2: Generate a random number\n",
    "number_to_guess = random.randint(1, 10)\n",
    "\n",
    "# Step 3: Loop for three guesses\n",
    "for attempt in range(3):  # You get 3 attempts\n",
    "    guess = int(input(\"Guess a number between 1 and 10: \"))\n",
    "    if guess == number_to_guess:\n",
    "        print(\"Congratulations! You guessed it right.\")\n",
    "        break\n",
    "    elif guess < number_to_guess:\n",
    "        print(\"Too low!\")\n",
    "    else:\n",
    "        print(\"Too high!\")\n",
    "else:\n",
    "    print(f\"Sorry, the correct number was {number_to_guess}.\")\n"
   ]
  },
  {
   "cell_type": "code",
   "execution_count": null,
   "metadata": {},
   "outputs": [
    {
     "name": "stdout",
     "output_type": "stream",
     "text": [
      "2 is not a leap year.\n"
     ]
    }
   ],
   "source": [
    "# Function to check if the year is a leap year\n",
    "def is_leap_year(year):\n",
    "    # A year is a leap year if it's divisible by 4,\n",
    "    # but not divisible by 100 unless it's also divisible by 400\n",
    "    if (year % 4 == 0 and year % 100 != 0) or (year % 400 == 0):\n",
    "        return True\n",
    "    else:\n",
    "        return False\n",
    "\n",
    "# Ask the user to enter a year\n",
    "year = int(input(\"Enter a year: \"))\n",
    "\n",
    "# Check if the entered year is a leap year\n",
    "if is_leap_year(year):\n",
    "    print(f\"{year} is a leap year.\")\n",
    "else:\n",
    "    print(f\"{year} is not a leap year.\")\n"
   ]
  }
 ],
 "metadata": {
  "kernelspec": {
   "display_name": "Python 3",
   "language": "python",
   "name": "python3"
  },
  "language_info": {
   "codemirror_mode": {
    "name": "ipython",
    "version": 3
   },
   "file_extension": ".py",
   "mimetype": "text/x-python",
   "name": "python",
   "nbconvert_exporter": "python",
   "pygments_lexer": "ipython3",
   "version": "3.13.0"
  }
 },
 "nbformat": 4,
 "nbformat_minor": 2
}

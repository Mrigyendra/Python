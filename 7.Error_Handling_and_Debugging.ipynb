{
 "cells": [
  {
   "cell_type": "markdown",
   "metadata": {},
   "source": [
    "# Error Handling and Debugging in Python\n",
    "---\n",
    "This notebook covers thw topics of error handling and debugging in python."
   ]
  },
  {
   "cell_type": "markdown",
   "metadata": {},
   "source": [
    "# 1. Types of Errors in Python\n",
    "---\n",
    "Errors in python can be categorized into the following types:\n",
    "\n",
    "1. **Syntax Errors**: issues with the codes's syntax.\n",
    "2. **Runtime Errors**: Errors that occur while the program is running.\n",
    "3. **Logical Errors**: the programs runs but produces incorrect results. "
   ]
  },
  {
   "cell_type": "code",
   "execution_count": 1,
   "metadata": {},
   "outputs": [
    {
     "name": "stdout",
     "output_type": "stream",
     "text": [
      "Runtime Error: division by zero\n",
      "Logical Error Result: 50 (Expected: 15)\n"
     ]
    }
   ],
   "source": [
    "# Examples of syntax Error\n",
    "# Uncomment the following line to see a SyntaxError\n",
    "# print(\"Hello World\"  # Missing closing parenthesis\n",
    "\n",
    "# Example of Runtime Error\n",
    "try:\n",
    "    result = 10 / 0  # Division by zero\n",
    "except ZeroDivisionError as e:\n",
    "    print(f\"Runtime Error: {e}\")    \n",
    "\n",
    "\n",
    "# Example of Logical Error\n",
    "# Intent: Add two numbers, but accidentally multiply them \n",
    "a = 10\n",
    "b = 5\n",
    "result = a * b   # Logical error\n",
    "print(f\"Logical Error Result: {result} (Expected: {a + b})\")"
   ]
  },
  {
   "cell_type": "code",
   "execution_count": 2,
   "metadata": {},
   "outputs": [
    {
     "name": "stdout",
     "output_type": "stream",
     "text": [
      "Runtime Error: division by zero\n"
     ]
    }
   ],
   "source": [
    "try:\n",
    "    result = 10/ 0\n",
    "except ZeroDivisionError as e:\n",
    "    print(f\"Runtime Error: {e}\")"
   ]
  },
  {
   "cell_type": "markdown",
   "metadata": {},
   "source": [
    "# 2. Exception Handling in Python\n",
    "---\n",
    "Python provides a robust way to handle errors using `try`, `except`, `else`, and `finally` blocks.\n",
    "\n",
    "\n"
   ]
  },
  {
   "cell_type": "markdown",
   "metadata": {},
   "source": [
    "1. try Block:\n",
    "The code within the try block is where we except an error might occur. If an error happens, Python will stop executing further lines inside this block and jump to the except block.\n",
    "\n",
    "2. Except Block: The except block in Python is used to handle exceptions (errors) that during the execution of code within a try block. When an exception is raised inside a try block, Python immediately looks for a matching except block to handle taht specific error."
   ]
  },
  {
   "cell_type": "code",
   "execution_count": 3,
   "metadata": {},
   "outputs": [
    {
     "name": "stdout",
     "output_type": "stream",
     "text": [
      "Square of the number: 100\n",
      "The operation was successful!\n",
      "Execution Comnpleted.\n"
     ]
    }
   ],
   "source": [
    "# Example of Execution Handling \n",
    "try: \n",
    "    num = int(input(\"Enter a number: \"))\n",
    "    print(f\"Square of the number: {num ** 2}\")\n",
    "\n",
    "except ValueError as e:\n",
    "    print(f\"Error: Invalid input. Please enter a number. ({e})\")   \n",
    "else:\n",
    "    print(\"The operation was successful!\")\n",
    "finally:\n",
    "    print(\"Execution Comnpleted.\")       \n",
    "      "
   ]
  }
 ],
 "metadata": {
  "kernelspec": {
   "display_name": "Python 3",
   "language": "python",
   "name": "python3"
  },
  "language_info": {
   "codemirror_mode": {
    "name": "ipython",
    "version": 3
   },
   "file_extension": ".py",
   "mimetype": "text/x-python",
   "name": "python",
   "nbconvert_exporter": "python",
   "pygments_lexer": "ipython3",
   "version": "3.13.0"
  }
 },
 "nbformat": 4,
 "nbformat_minor": 2
}

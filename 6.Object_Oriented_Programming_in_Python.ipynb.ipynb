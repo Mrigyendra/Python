{
 "cells": [
  {
   "cell_type": "markdown",
   "metadata": {},
   "source": [
    "# Object-Oriented Programming in Python"
   ]
  },
  {
   "cell_type": "markdown",
   "metadata": {},
   "source": [
    "## **1.Classes and Objects**\n",
    " - **Class**: A blueprint for creating that defines attributes (variables) and methods(functions).\n",
    " - **Object**: An instance of a class "
   ]
  },
  {
   "cell_type": "code",
   "execution_count": 6,
   "metadata": {},
   "outputs": [
    {
     "name": "stdout",
     "output_type": "stream",
     "text": [
      "10\n",
      "name:Mrigyendra\n",
      "age:20\n"
     ]
    }
   ],
   "source": [
    "class num:\n",
    "    x=20 #attribute optional\n",
    "    def display(self): #self default while working on class\n",
    "        print(10)\n",
    "\n",
    "\n",
    "num1=num()\n",
    "num1.display()\n",
    "num1.x\n",
    "\n",
    "\n",
    "class student:\n",
    "    name=\"Mrigyendra\"\n",
    "    age=20\n",
    "    def display(self):\n",
    "        print(f\"name:{self.name}\")\n",
    "        print(f\"age:{self.age}\")\n",
    "\n",
    "std1=student()\n",
    "std1.display()        "
   ]
  },
  {
   "cell_type": "code",
   "execution_count": 3,
   "metadata": {},
   "outputs": [
    {
     "name": "stdout",
     "output_type": "stream",
     "text": [
      "Name is:Mrigyendra\n",
      "Roll no is:9\n",
      "Address is:Shankhamul\n"
     ]
    }
   ],
   "source": [
    "class Student:\n",
    "    def put(self):\n",
    "        self.name=input(\"enter a name\")\n",
    "        self.roll=int(input(\"enter a roll no\"))\n",
    "        self.address=input(\"enter a Address\")\n",
    "\n",
    "    def display(self):\n",
    "        print(f\"Name is:{self.name}\")\n",
    "        print(f\"Roll no is:{self.roll}\")\n",
    "        print(f\"Address is:{self.address}\")\n",
    "std1=Student()\n",
    "\n",
    "std1.put()\n",
    "std1.display()"
   ]
  },
  {
   "cell_type": "markdown",
   "metadata": {},
   "source": [
    "# **2.Constructors and Destructors**\n",
    "\n",
    " - **Constructor (`__init__`method)**: A special method called when an object is created to initialize attributes.\n",
    " - **Destructor (`__del__ method)**: A special method called when an object is deleted or goes out of scope (used to release resources)."
   ]
  },
  {
   "cell_type": "code",
   "execution_count": 5,
   "metadata": {},
   "outputs": [
    {
     "name": "stdout",
     "output_type": "stream",
     "text": [
      "Name is :Mrigyendra\n",
      "Roll no is:9\n",
      "Address is:Shankhamul\n"
     ]
    }
   ],
   "source": [
    "class student:\n",
    "    def __init__(self):\n",
    "        self.name=input(\"enter a name \")\n",
    "        self.roll=int(input(\"enter a roll no\"))\n",
    "        self.address=input(\"enter a Address\")\n",
    "\n",
    "    def display(self):\n",
    "        print(f\"Name is :{self.name}\") \n",
    "        print(f\"Roll no is:{self.roll}\")\n",
    "        print(f\"Address is:{self.address}\")\n",
    "\n",
    "std1=student()\n",
    "\n",
    "# std1.put()\n",
    "std1.display()"
   ]
  },
  {
   "cell_type": "code",
   "execution_count": 29,
   "metadata": {},
   "outputs": [
    {
     "name": "stdout",
     "output_type": "stream",
     "text": [
      "Buddy\n",
      "Golden Retriever\n"
     ]
    }
   ],
   "source": [
    "class Dog:\n",
    "    def __init__(self, name, breed):\n",
    "        self.name = name\n",
    "        self.breed = breed\n",
    "\n",
    "my_dog = Dog(\"Buddy\", \"Golden Retriever\")\n",
    "print(my_dog.name) #Output: Buddy\n",
    "print(my_dog.breed)        "
   ]
  },
  {
   "cell_type": "markdown",
   "metadata": {},
   "source": [
    "# Destructor"
   ]
  },
  {
   "cell_type": "code",
   "execution_count": 57,
   "metadata": {},
   "outputs": [
    {
     "name": "stdout",
     "output_type": "stream",
     "text": [
      "Constructor called!\n",
      "Destructor called!\n"
     ]
    }
   ],
   "source": [
    "class Example:\n",
    "    def __init__(self, value):\n",
    "        self.value = value\n",
    "        print(\"Constructor called!\")\n",
    "\n",
    "    def __del__(self):\n",
    "        print(\"Destructor called!\")\n",
    "\n",
    "obj = Example(45)\n",
    "del obj            "
   ]
  },
  {
   "cell_type": "code",
   "execution_count": 16,
   "metadata": {},
   "outputs": [
    {
     "name": "stdout",
     "output_type": "stream",
     "text": [
      "Alice 20\n",
      "Bob Not provided\n"
     ]
    }
   ],
   "source": [
    "class Student:\n",
    "    def __init__(self, name, age=None):\n",
    "        self.name = name\n",
    "        self.age = age if age is not None else \"Not provided\"\n",
    "\n",
    "# Examples:\n",
    "student1 = Student(\"Alice\", 20)     # Constructgor with two arguments\n",
    "student2 = Student(\"Bob\")           # Constructor with one argument\n",
    "print(student1.name, student1.age)  # Output: Alice 20\n",
    "print(student2.name, student2.age)  # Output: Bob Not provided      "
   ]
  },
  {
   "cell_type": "markdown",
   "metadata": {},
   "source": [
    "# **3. The `self` Keyword**\n",
    " - Represents the instance of the class.\n",
    " - Used to access attributes and methods within the class."
   ]
  },
  {
   "cell_type": "code",
   "execution_count": 17,
   "metadata": {},
   "outputs": [
    {
     "name": "stdout",
     "output_type": "stream",
     "text": [
      "Hello from <__main__.Sample object at 0x000001BA81DB8D70>\n"
     ]
    }
   ],
   "source": [
    "class Sample:\n",
    "    def greet(self):\n",
    "        print(f\"Hello from {self}\")\n",
    "\n",
    "obj = Sample()\n",
    "obj.greet()   # Output: Hello from <object reference>\n"
   ]
  },
  {
   "cell_type": "markdown",
   "metadata": {},
   "source": [
    "#  **4. OOP Principles**"
   ]
  },
  {
   "cell_type": "markdown",
   "metadata": {},
   "source": [
    "Inheritance\n",
    " - Mechanism to create a new class from an existing class (reuse and extend functionality)."
   ]
  },
  {
   "cell_type": "code",
   "execution_count": 24,
   "metadata": {},
   "outputs": [
    {
     "name": "stdout",
     "output_type": "stream",
     "text": [
      "Dog barks\n"
     ]
    }
   ],
   "source": [
    "class Animal:\n",
    "    def sounds(self):\n",
    "        print(\"Animal speaks\")\n",
    "\n",
    "class Dog(Animal):\n",
    "    def sounds(self):\n",
    "        print(\"Dog barks\")\n",
    "\n",
    "dog = Dog()\n",
    "dog.sounds()\n",
    "# dog.speaks() "
   ]
  },
  {
   "cell_type": "markdown",
   "metadata": {},
   "source": [
    "Polymorphism\n",
    " - Allows the same interface or method to behave differently based on the object."
   ]
  },
  {
   "cell_type": "code",
   "execution_count": 29,
   "metadata": {},
   "outputs": [
    {
     "name": "stdout",
     "output_type": "stream",
     "text": [
      "Bird chirps\n",
      "Cat meows\n"
     ]
    }
   ],
   "source": [
    "class Bird:\n",
    "    def sound(self):\n",
    "        print(\"Bird chirps\")\n",
    "\n",
    "class Cat:\n",
    "    def sound(self):\n",
    "        print(\"Cat meows\")\n",
    "\n",
    "for animal in [Bird(), Cat()]:\n",
    "    animal.sound()\n",
    "# obj = Cat()\n",
    "# obj.sound \n"
   ]
  },
  {
   "cell_type": "markdown",
   "metadata": {},
   "source": [
    "Write a class Student with attributes name and rol_number. Add a method display() to print the details of the student."
   ]
  },
  {
   "cell_type": "code",
   "execution_count": 31,
   "metadata": {},
   "outputs": [
    {
     "name": "stdout",
     "output_type": "stream",
     "text": [
      "Name: Mrigyendra Singh, Roll Number: 101\n"
     ]
    }
   ],
   "source": [
    "class Student:\n",
    "    def __init__(self, name, roll_number):\n",
    "        self.name = name\n",
    "        self.roll_number = roll_number\n",
    "\n",
    "    def display(self):\n",
    "        print(f\"Name: {self.name}, Roll Number: {self.roll_number}\")\n",
    "\n",
    "# Create an object\n",
    "student = Student(\"Mrigyendra Singh\", 101)\n",
    "student.display()            "
   ]
  },
  {
   "cell_type": "markdown",
   "metadata": {},
   "source": [
    "Create a class Employee with a private attribute_salary. Provide methods to set and get the salary value"
   ]
  },
  {
   "cell_type": "code",
   "execution_count": 21,
   "metadata": {},
   "outputs": [
    {
     "name": "stdout",
     "output_type": "stream",
     "text": [
      "Mrigyendra's salary is 5000.\n"
     ]
    }
   ],
   "source": [
    "class Employee:\n",
    "    def __init__(self, name):\n",
    "        self.name =  name\n",
    "        self.__salary = 0\n",
    "\n",
    "    def set_salary(self, salary):\n",
    "        if salary> 0:\n",
    "            self.__salary = salary\n",
    "        else:\n",
    "            print(\"Salary must be positive!\")\n",
    "\n",
    "    def get_salary(self):\n",
    "        return self.__salary \n",
    "\n",
    "\n",
    "# Create an object\n",
    "employee = Employee(\"Mrigyendra\")\n",
    "employee.set_salary(5000) \n",
    "print(f\"{employee.name}'s salary is {employee.get_salary()}.\")               "
   ]
  },
  {
   "cell_type": "markdown",
   "metadata": {},
   "source": [
    "Write a class Calculator with methods add(), subtract(), multiply(), and divide() to perform basic arithmetic operations."
   ]
  },
  {
   "cell_type": "code",
   "execution_count": 23,
   "metadata": {},
   "outputs": [
    {
     "name": "stdout",
     "output_type": "stream",
     "text": [
      "Addition: 15\n",
      "Subtraction: 5\n",
      "Multiplication: 50\n",
      "Division: 2.0\n"
     ]
    }
   ],
   "source": [
    "class Calculator:\n",
    "    def add(self, a, b):\n",
    "        return a + b\n",
    "    \n",
    "    def subtract(self, a, b):\n",
    "        return a - b\n",
    "    \n",
    "    def multiply(self, a, b):\n",
    "        return a * b\n",
    "    \n",
    "    def divide(self, a, b):\n",
    "        if b !=0:\n",
    "            return a / b\n",
    "        else:\n",
    "            return \"Cannot divide by zero!\"\n",
    "        \n",
    "\n",
    "# Create an object\n",
    "calc = Calculator()\n",
    "\n",
    "print(\"Addition:\", calc.add(10, 5))\n",
    "print(\"Subtraction:\", calc.subtract(10, 5))\n",
    "print(\"Multiplication:\", calc.multiply(10, 5))\n",
    "print(\"Division:\", calc.divide(10, 5))"
   ]
  },
  {
   "cell_type": "code",
   "execution_count": 44,
   "metadata": {},
   "outputs": [
    {
     "name": "stdout",
     "output_type": "stream",
     "text": [
      "Book: Unknown Title, Author: Unknown Author\n",
      "Book: Python Programming, Author: John\n"
     ]
    }
   ],
   "source": [
    "# Create a class Book with attributes title and author. Set default values for both and allows users to override them during object creation.\n",
    "class Book:\n",
    "    def __init__(self, title=\"Unknown Title\", author=\"Unknown Author\"):\n",
    "        self.title = title \n",
    "        self.author = author \n",
    "\n",
    "    def display(self):\n",
    "        print(f\"Book: {self.title}, Author: {self.author}\")\n",
    "\n",
    "# Create objects\n",
    "default_book = Book()\n",
    "custom_book = Book(\"Python Programming\", \"John\")\n",
    "\n",
    "default_book.display()\n",
    "custom_book.display()\n"
   ]
  },
  {
   "cell_type": "code",
   "execution_count": 63,
   "metadata": {},
   "outputs": [
    {
     "name": "stdout",
     "output_type": "stream",
     "text": [
      "Car Details:\n",
      "Brand: Lamborghini, Color: Blue\n",
      "Number of doors: 2\n",
      "\n",
      "Bike Details:\n",
      "Brand: Royal Enfield, Color: Blue\n",
      "Type of bike: Classic\n"
     ]
    }
   ],
   "source": [
    "# # Create a Python program demonstrating hierarchical inheritance with a parent class Vehicle and two child classes Car and Bike. Include unique attributes and methods for each child class to display their details.\n",
    "# Parent class\n",
    "class Vehicle:\n",
    "    def __init__(self, brand, color):\n",
    "        self.brand = brand\n",
    "        self.color = color\n",
    "\n",
    "    def display_details(self):\n",
    "        print(f\"Brand: {self.brand}, Color: {self.color}\")\n",
    "\n",
    "# Child class 1\n",
    "class Car(Vehicle):\n",
    "    def __init__(self, brand, color, doors):\n",
    "        super().__init__(brand, color)  # Call parent constructor \n",
    "        self.doors = doors\n",
    "\n",
    "    def display_car_details(self):\n",
    "        self.display_details()\n",
    "        print(f\"Number of doors: {self.doors}\")\n",
    "\n",
    "# Child class 2\n",
    "class Bike(Vehicle):\n",
    "    def __init__(self, brand, color, type_of_bike):\n",
    "        super().__init__(brand, color)   # Call parent constructor\n",
    "        self.type_of_bike = type_of_bike\n",
    "\n",
    "    def display_bike_details(self):\n",
    "        self.display_details()\n",
    "        print(f\"Type of bike: {self.type_of_bike}\")      \n",
    "\n",
    "# # Create objects of Car and Bike\n",
    "car = Car(\"Lamborghini\", \"Blue\", 2)\n",
    "bike = Bike(\"Royal Enfield\", \"Blue\", \"Classic\")\n",
    "\n",
    "print(\"Car Details:\")\n",
    "car.display_car_details()\n",
    "\n",
    "print(\"\\nBike Details:\")\n",
    "bike.display_bike_details()"
   ]
  },
  {
   "cell_type": "code",
   "execution_count": 64,
   "metadata": {},
   "outputs": [
    {
     "name": "stdout",
     "output_type": "stream",
     "text": [
      "5000\n",
      "6000\n",
      "Salary must be positive\n"
     ]
    }
   ],
   "source": [
    "class Employee:\n",
    "    def __init__(self, name, salary):\n",
    "        self.name = name\n",
    "        self.__salary = salary    # Private variable (indicated by double underscore)\n",
    "\n",
    "    # Getter method for salary\n",
    "    def get_salary(self):\n",
    "        return self.__salary\n",
    "    \n",
    "    # Setter method for salary\n",
    "    def set_salary(self, salary):\n",
    "        if salary > 0:\n",
    "            self.__salary = salary\n",
    "        else:\n",
    "            print(\"Salary must be positive\")\n",
    "\n",
    "# Examples Usage\n",
    "emp = Employee(\"Alice\", 5000)\n",
    "\n",
    "# Accessing private variable through getter\n",
    "print(emp.get_salary())   # Output: 5000\n",
    "\n",
    "# Setting new salary through setter\n",
    "emp.set_salary(6000)\n",
    "print(emp.get_salary())   # Output: 6000\n",
    "\n",
    "# trying to set a negative salary (will be rejected)\n",
    "emp.set_salary(-1000)     # Output: Salary must be positive!\n",
    "        \n",
    "    "
   ]
  },
  {
   "cell_type": "markdown",
   "metadata": {},
   "source": [
    "# Access Modifiers in Python: Public, Private and Protected\n",
    "\n",
    "In object-oriented programming (OOP), access modifiers (or access specifiers) defines the visibility of class attributes and methods. These modifiers help control how the members(variables and methods) of a class can be accessed from outside the class. The three most common access modifiers are **private**, **protected**, and **public**, Each has different levels of access restrictions.\n",
    "\n",
    "## 1. Public Modifier\n",
    "- **Definition**: A **Public** attribute or method is accesible from anywhere - both inside and outside the class. \n",
    "- **Usage**: The default access level for members in many programming languages(including python).\n",
    "- **Visibility**: Unrestricted.\n",
    "\n",
    "### Example:\n",
    "```python\n",
    "class MyClass:\n",
    "    def __init__(self):\n",
    "        self.public_var = 10  # Public variable\n",
    "\n",
    "    def public_method(self):\n",
    "        print(\"This is a public method\")\n",
    "\n",
    "# Example Usage \n",
    "obj = MyClass()\n",
    "print(obj.public_var)   # Accessing public variavble from outside the class\n",
    "obj.public_method()     # Accessing public method from outside the class              "
   ]
  },
  {
   "cell_type": "markdown",
   "metadata": {},
   "source": [
    "## 2. Private Access Modifier\n",
    "\n",
    "- **Definition**: A private attribute or method is **not accessible** outside the class. In Python, private members are indicated by double underscores (`__`), which are a convention to make an attribute or method private.\n",
    "- **Usage**: Used to protect the internal state of an object, ensuring that only methods inside the class can modify or access the private attributes.\n",
    "- **Visibility**: Restricted to the class itself.\n",
    "\n",
    "### Example:\n",
    "```python\n",
    "class MyClass:\n",
    "    def __init__(self):\n",
    "        self.__private_var = 20  # Private variable\n",
    "\n",
    "    def __private_method(self):\n",
    "        print(\"This is a private method.\")\n",
    "\n",
    "    def public_method(self):\n",
    "        print(\"This is a public method.\")\n",
    "        self.__private_method()  # Private method can be called inside the public method\n",
    "        print(self.__private_var)\n",
    "\n",
    "# Example Usage\n",
    "obj = MyClass()\n",
    "# print(obj.__private_var)  # This will raise an AttributeError: 'MyClass' object has no attribute '__private_var'\n",
    "# obj.__private_method()    # This will raise an AttributeError: 'MyClass' object has no attribute '__private_method'\n",
    "\n",
    "obj.public_method()  # Works fine, but private method is called inside the public method\n"
   ]
  },
  {
   "cell_type": "markdown",
   "metadata": {},
   "source": [
    "## 3. Protected Access Modifier\n",
    "\n",
    "- **Definition**: A protected attribute or method is meant to be accessible **only within the class and its subclasses** (derived classes). In Python, protected members are indicated by a single underscore (`_`).\n",
    "- **Usage**: This modifier is a convention and does not strictly enforce access restrictions. It tells developers that the attribute or method is intended for internal use, but it's not strictly private.\n",
    "- **Visibility**: Restricted to the class and subclasses.\n",
    "\n",
    "### Example:\n",
    "```python\n",
    "class ParentClass:\n",
    "    def __init__(self):\n",
    "        self._protected_var = 30  # Protected variable\n",
    "\n",
    "    def _protected_method(self):\n",
    "        print(\"This is a protected method.\")\n",
    "\n",
    "class ChildClass(ParentClass):\n",
    "    def __init__(self):\n",
    "        super().__init__()\n",
    "\n",
    "    def access_protected(self):\n",
    "        print(\"Accessing protected variable:\", self._protected_var)\n",
    "        self._protected_method()\n",
    "\n",
    "# Example Usage\n",
    "obj = ChildClass()\n",
    "obj.access_protected()  # Works fine since the subclass can access protected members\n"
   ]
  }
 ],
 "metadata": {
  "kernelspec": {
   "display_name": "Python 3",
   "language": "python",
   "name": "python3"
  },
  "language_info": {
   "codemirror_mode": {
    "name": "ipython",
    "version": 3
   },
   "file_extension": ".py",
   "mimetype": "text/x-python",
   "name": "python",
   "nbconvert_exporter": "python",
   "pygments_lexer": "ipython3",
   "version": "3.13.0"
  }
 },
 "nbformat": 4,
 "nbformat_minor": 2
}
